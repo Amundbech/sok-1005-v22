{
 "cells": [
  {
   "cell_type": "code",
   "execution_count": null,
   "id": "b552ecf8-e62e-4c7a-bd30-a29f1e247510",
   "metadata": {},
   "outputs": [],
   "source": [
    "def player_strategy(n_battalions,n_fields):\n",
    "    #defining the array:\n",
    "    battalions=np.zeros(n_fields,dtype=int)\n",
    "    \n",
    "    #plassering av bataljoner \n",
    "    battalions[0:]=30\n",
    "    battalions[1:]=0\n",
    "    battalions[2:]=30\n",
    "    battalions[3:]=8\n",
    "    battalions[4:]=2\n",
    "    battalions[5:]=30\n",
    "\n",
    "    \n",
    "    # Gjør de tilfeldig plassert\n",
    "    battalions=battalions[np.random.rand(n_fields).argsort()]\n",
    "    assert sum(battalions)==n_battalions\n",
    "    \n",
    "    return battalions"
   ]
  }
 ],
 "metadata": {
  "kernelspec": {
   "display_name": "Python 3 (ipykernel)",
   "language": "python",
   "name": "python3"
  },
  "language_info": {
   "codemirror_mode": {
    "name": "ipython",
    "version": 3
   },
   "file_extension": ".py",
   "mimetype": "text/x-python",
   "name": "python",
   "nbconvert_exporter": "python",
   "pygments_lexer": "ipython3",
   "version": "3.9.9"
  }
 },
 "nbformat": 4,
 "nbformat_minor": 5
}
